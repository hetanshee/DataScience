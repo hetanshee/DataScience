{
 "cells": [
  {
   "cell_type": "code",
   "execution_count": 30,
   "id": "5f429cc9",
   "metadata": {},
   "outputs": [],
   "source": [
    "import pandas as pd\n",
    "df = pd.read_csv(\"Labor_datascience.csv\")"
   ]
  },
  {
   "cell_type": "code",
   "execution_count": 31,
   "id": "d3c965bb",
   "metadata": {},
   "outputs": [
    {
     "data": {
      "text/html": [
       "<div>\n",
       "<style scoped>\n",
       "    .dataframe tbody tr th:only-of-type {\n",
       "        vertical-align: middle;\n",
       "    }\n",
       "\n",
       "    .dataframe tbody tr th {\n",
       "        vertical-align: top;\n",
       "    }\n",
       "\n",
       "    .dataframe thead th {\n",
       "        text-align: right;\n",
       "    }\n",
       "</style>\n",
       "<table border=\"1\" class=\"dataframe\">\n",
       "  <thead>\n",
       "    <tr style=\"text-align: right;\">\n",
       "      <th></th>\n",
       "      <th>Date</th>\n",
       "      <th>Year</th>\n",
       "      <th>Month</th>\n",
       "      <th>California Labor Force Participation Rate</th>\n",
       "      <th>US Labor Force Participation Rate</th>\n",
       "    </tr>\n",
       "  </thead>\n",
       "  <tbody>\n",
       "    <tr>\n",
       "      <th>0</th>\n",
       "      <td>12-01-2018</td>\n",
       "      <td>2018</td>\n",
       "      <td>December</td>\n",
       "      <td>0.6</td>\n",
       "      <td>0.6</td>\n",
       "    </tr>\n",
       "    <tr>\n",
       "      <th>1</th>\n",
       "      <td>01-01-2019</td>\n",
       "      <td>2019</td>\n",
       "      <td>January</td>\n",
       "      <td>0.6</td>\n",
       "      <td>0.6</td>\n",
       "    </tr>\n",
       "    <tr>\n",
       "      <th>2</th>\n",
       "      <td>02-01-2019</td>\n",
       "      <td>2019</td>\n",
       "      <td>February</td>\n",
       "      <td>0.6</td>\n",
       "      <td>0.6</td>\n",
       "    </tr>\n",
       "    <tr>\n",
       "      <th>3</th>\n",
       "      <td>03-01-2019</td>\n",
       "      <td>2019</td>\n",
       "      <td>March</td>\n",
       "      <td>0.6</td>\n",
       "      <td>0.6</td>\n",
       "    </tr>\n",
       "    <tr>\n",
       "      <th>4</th>\n",
       "      <td>04-01-2019</td>\n",
       "      <td>2019</td>\n",
       "      <td>April</td>\n",
       "      <td>0.6</td>\n",
       "      <td>0.6</td>\n",
       "    </tr>\n",
       "  </tbody>\n",
       "</table>\n",
       "</div>"
      ],
      "text/plain": [
       "         Date  Year     Month  California Labor Force Participation Rate  \\\n",
       "0  12-01-2018  2018  December                                        0.6   \n",
       "1  01-01-2019  2019   January                                        0.6   \n",
       "2  02-01-2019  2019  February                                        0.6   \n",
       "3  03-01-2019  2019     March                                        0.6   \n",
       "4  04-01-2019  2019     April                                        0.6   \n",
       "\n",
       "   US Labor Force Participation Rate  \n",
       "0                                0.6  \n",
       "1                                0.6  \n",
       "2                                0.6  \n",
       "3                                0.6  \n",
       "4                                0.6  "
      ]
     },
     "execution_count": 31,
     "metadata": {},
     "output_type": "execute_result"
    }
   ],
   "source": [
    "df.head()"
   ]
  },
  {
   "cell_type": "code",
   "execution_count": 32,
   "id": "24a14952",
   "metadata": {},
   "outputs": [],
   "source": [
    "import matplotlib.pyplot as plt\n"
   ]
  },
  {
   "cell_type": "code",
   "execution_count": 33,
   "id": "79034816",
   "metadata": {},
   "outputs": [],
   "source": [
    "df_years=df[df[\"Year\"]>=2000]"
   ]
  },
  {
   "cell_type": "code",
   "execution_count": 34,
   "id": "a3d4fa07",
   "metadata": {},
   "outputs": [],
   "source": [
    "x = [df_years[\"Year\"]]"
   ]
  },
  {
   "cell_type": "code",
   "execution_count": 43,
   "id": "19e2d7d7",
   "metadata": {},
   "outputs": [],
   "source": [
    "y_2 = df_years[\"US Labor Force Participation Rate\"]\n",
    "y_1 = df_years[\"California Labor Force Participation Rate\"]"
   ]
  },
  {
   "cell_type": "code",
   "execution_count": 44,
   "id": "07210dee",
   "metadata": {},
   "outputs": [
    {
     "data": {
      "text/plain": [
       "<matplotlib.collections.PathCollection at 0x2b9f05404c0>"
      ]
     },
     "execution_count": 44,
     "metadata": {},
     "output_type": "execute_result"
    },
    {
     "data": {
      "image/png": "[encoded data removed]",
      "text/plain": [
       "<Figure size 432x288 with 1 Axes>"
      ]
     },
     "metadata": {
      "needs_background": "light"
     },
     "output_type": "display_data"
    }
   ],
   "source": [
    "plt.scatter(x, y_1,marker=\"x\", c=\"blue\")\n",
    "plt.scatter(x, y_2, marker=\".\", c=\"red\")"
   ]
  },
  {
   "cell_type": "code",
   "execution_count": 85,
   "id": "269964e9",
   "metadata": {},
   "outputs": [
    {
     "data": {
      "image/png": "[encoded data removed]",
      "text/plain": [
       "<Figure size 432x288 with 1 Axes>"
      ]
     },
     "metadata": {
      "needs_background": "light"
     },
     "output_type": "display_data"
    }
   ],
   "source": [
    "df_edu = pd.read_csv(\"education_datascience.csv\")\n",
    "df_edu.plot(x = \"Gender\", y= \"Population Count\", kind= \"bar\")\n",
    "plt.show()"
   ]
  },
  {
   "cell_type": "code",
   "execution_count": 66,
   "id": "9ee9fd12",
   "metadata": {},
   "outputs": [
    {
     "data": {
      "text/html": [
       "<div>\n",
       "<style scoped>\n",
       "    .dataframe tbody tr th:only-of-type {\n",
       "        vertical-align: middle;\n",
       "    }\n",
       "\n",
       "    .dataframe tbody tr th {\n",
       "        vertical-align: top;\n",
       "    }\n",
       "\n",
       "    .dataframe thead th {\n",
       "        text-align: right;\n",
       "    }\n",
       "</style>\n",
       "<table border=\"1\" class=\"dataframe\">\n",
       "  <thead>\n",
       "    <tr style=\"text-align: right;\">\n",
       "      <th></th>\n",
       "      <th>Population Count</th>\n",
       "    </tr>\n",
       "  </thead>\n",
       "  <tbody>\n",
       "    <tr>\n",
       "      <th>count</th>\n",
       "      <td>1.026000e+03</td>\n",
       "    </tr>\n",
       "    <tr>\n",
       "      <th>mean</th>\n",
       "      <td>1.855429e+05</td>\n",
       "    </tr>\n",
       "    <tr>\n",
       "      <th>std</th>\n",
       "      <td>2.187005e+05</td>\n",
       "    </tr>\n",
       "    <tr>\n",
       "      <th>min</th>\n",
       "      <td>1.048000e+03</td>\n",
       "    </tr>\n",
       "    <tr>\n",
       "      <th>25%</th>\n",
       "      <td>3.052250e+04</td>\n",
       "    </tr>\n",
       "    <tr>\n",
       "      <th>50%</th>\n",
       "      <td>9.039300e+04</td>\n",
       "    </tr>\n",
       "    <tr>\n",
       "      <th>75%</th>\n",
       "      <td>2.879518e+05</td>\n",
       "    </tr>\n",
       "    <tr>\n",
       "      <th>max</th>\n",
       "      <td>1.643095e+06</td>\n",
       "    </tr>\n",
       "  </tbody>\n",
       "</table>\n",
       "</div>"
      ],
      "text/plain": [
       "       Population Count\n",
       "count      1.026000e+03\n",
       "mean       1.855429e+05\n",
       "std        2.187005e+05\n",
       "min        1.048000e+03\n",
       "25%        3.052250e+04\n",
       "50%        9.039300e+04\n",
       "75%        2.879518e+05\n",
       "max        1.643095e+06"
      ]
     },
     "execution_count": 66,
     "metadata": {},
     "output_type": "execute_result"
    }
   ],
   "source": [
    "df_edu.describe()\n"
   ]
  },
  {
   "cell_type": "code",
   "execution_count": null,
   "id": "417a079a",
   "metadata": {},
   "outputs": [],
   "source": []
  }
 ],
 "metadata": {
  "kernelspec": {
   "display_name": "Python 3 (ipykernel)",
   "language": "python",
   "name": "python3"
  },
  "language_info": {
   "codemirror_mode": {
    "name": "ipython",
    "version": 3
   },
   "file_extension": ".py",
   "mimetype": "text/x-python",
   "name": "python",
   "nbconvert_exporter": "python",
   "pygments_lexer": "ipython3",
   "version": "3.9.7"
  }
 },
 "nbformat": 4,
 "nbformat_minor": 5
}
