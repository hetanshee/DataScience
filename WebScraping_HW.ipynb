{
  "nbformat": 4,
  "nbformat_minor": 0,
  "metadata": {
    "colab": {
      "provenance": []
    },
    "kernelspec": {
      "name": "python3",
      "display_name": "Python 3"
    },
    "language_info": {
      "name": "python"
    }
  },
  "cells": [
    {
      "cell_type": "code",
      "execution_count": 33,
      "metadata": {
        "colab": {
          "base_uri": "https://localhost:8080/"
        },
        "id": "5WYgHuP5X4ut",
        "outputId": "c3345fd6-46e5-451e-f378-2b8028d98a96"
      },
      "outputs": [
        {
          "output_type": "stream",
          "name": "stdout",
          "text": [
            "\n",
            "                            Boston Bruins\n",
            "                        \n"
          ]
        }
      ],
      "source": [
        "from bs4 import BeautifulSoup\n",
        "import requests\n",
        "\n",
        "\n",
        "url = \"https://www.scrapethissite.com/pages/forms/?per_page=100\"\n",
        "# HEADERS = {\n",
        "#     \"User Agent\": \"Mozilla/5.0 (Windows NT 10.0; Win64; x64) AppleWebKit/537.36 (KHTML, like Gecko) Chrome/109.0.0.0 Safari/537.36\"\n",
        "# }\n",
        "\n",
        "result = requests.get(url)\n",
        "doc = BeautifulSoup(result.text, \"html.parser\")\n",
        "# print(doc.prettify())\n",
        "\n",
        "names = doc.find_all(\"td\", class_ = \"name\")\n",
        "print(names[0].string)\n",
        "\n",
        "# country = pay[0].find_all(\"i\")\n",
        "# print(country[0].string)"
      ]
    },
    {
      "cell_type": "code",
      "source": [
        "wins = doc.find_all(\"td\", class_ = \"wins\")\n",
        "print(wins[0].string)\n",
        "losses = doc.find_all(\"td\", class_ = \"losses\")\n",
        "print(losses[0].string)\n"
      ],
      "metadata": {
        "colab": {
          "base_uri": "https://localhost:8080/"
        },
        "id": "N0MBkev4YFvV",
        "outputId": "db5cb9ed-9b28-4033-b58b-d32e86265da3"
      },
      "execution_count": 46,
      "outputs": [
        {
          "output_type": "stream",
          "name": "stdout",
          "text": [
            "\n",
            "                            44\n",
            "                        \n",
            "\n",
            "                            24\n",
            "                        \n"
          ]
        }
      ]
    },
    {
      "cell_type": "code",
      "source": [
        "name_list = []\n",
        "win_list = []\n",
        "loss_list = []\n",
        "for name,win,loss in zip(names, wins, losses):\n",
        "  name_list.append(name.string)\n",
        "  win_list.append(win.string)\n",
        "  loss_list.append(loss.string)\n"
      ],
      "metadata": {
        "id": "j5g34s3Ma_m-"
      },
      "execution_count": 48,
      "outputs": []
    },
    {
      "cell_type": "code",
      "source": [
        "print(name_list)"
      ],
      "metadata": {
        "colab": {
          "base_uri": "https://localhost:8080/"
        },
        "id": "wGX-XLctbnAA",
        "outputId": "1566a437-1d4f-49e8-ff98-fccd1aed0a99"
      },
      "execution_count": 42,
      "outputs": [
        {
          "output_type": "stream",
          "name": "stdout",
          "text": [
            "['\\n                            Boston Bruins\\n                        ', '\\n                            Buffalo Sabres\\n                        ', '\\n                            Calgary Flames\\n                        ', '\\n                            Chicago Blackhawks\\n                        ', '\\n                            Detroit Red Wings\\n                        ', '\\n                            Edmonton Oilers\\n                        ', '\\n                            Hartford Whalers\\n                        ', '\\n                            Los Angeles Kings\\n                        ', '\\n                            Minnesota North Stars\\n                        ', '\\n                            Montreal Canadiens\\n                        ', '\\n                            New Jersey Devils\\n                        ', '\\n                            New York Islanders\\n                        ', '\\n                            New York Rangers\\n                        ', '\\n                            Philadelphia Flyers\\n                        ', '\\n                            Pittsburgh Penguins\\n                        ', '\\n                            Quebec Nordiques\\n                        ', '\\n                            St. Louis Blues\\n                        ', '\\n                            Toronto Maple Leafs\\n                        ', '\\n                            Vancouver Canucks\\n                        ', '\\n                            Washington Capitals\\n                        ', '\\n                            Winnipeg Jets\\n                        ', '\\n                            Boston Bruins\\n                        ', '\\n                            Buffalo Sabres\\n                        ', '\\n                            Calgary Flames\\n                        ', '\\n                            Chicago Blackhawks\\n                        ', '\\n                            Detroit Red Wings\\n                        ', '\\n                            Edmonton Oilers\\n                        ', '\\n                            Hartford Whalers\\n                        ', '\\n                            Los Angeles Kings\\n                        ', '\\n                            Minnesota North Stars\\n                        ', '\\n                            Montreal Canadiens\\n                        ', '\\n                            New Jersey Devils\\n                        ', '\\n                            New York Islanders\\n                        ', '\\n                            New York Rangers\\n                        ']\n"
          ]
        }
      ]
    },
    {
      "cell_type": "code",
      "source": [
        "import csv\n",
        "f = open('data_hockey.csv', 'w')\n",
        "\n",
        "writer = csv.writer(f)\n",
        "writer.writerow([\"Team Names\", \"Wins\", \"Losses\"])\n",
        "for data in zip(name_list, win_list, loss_list):\n",
        "  writer.writerow(data)\n",
        "\n",
        "\n",
        "f.close()"
      ],
      "metadata": {
        "id": "VFJ1KGYxcBPZ"
      },
      "execution_count": 49,
      "outputs": []
    },
    {
      "cell_type": "code",
      "source": [],
      "metadata": {
        "colab": {
          "base_uri": "https://localhost:8080/"
        },
        "id": "AI4FjnwIc6fu",
        "outputId": "1cc2adaf-b0fa-442f-f20e-a03985090441"
      },
      "execution_count": 45,
      "outputs": [
        {
          "output_type": "stream",
          "name": "stdout",
          "text": [
            "34\n"
          ]
        }
      ]
    },
    {
      "cell_type": "code",
      "source": [],
      "metadata": {
        "id": "vYyksOA4eHTF"
      },
      "execution_count": null,
      "outputs": []
    }
  ]
}