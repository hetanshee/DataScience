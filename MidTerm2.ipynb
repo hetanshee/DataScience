{
 "cells": [
  {
   "cell_type": "code",
   "execution_count": 23,
   "id": "197be821",
   "metadata": {},
   "outputs": [
    {
     "data": {
      "text/html": [
       "<div>\n",
       "<style scoped>\n",
       "    .dataframe tbody tr th:only-of-type {\n",
       "        vertical-align: middle;\n",
       "    }\n",
       "\n",
       "    .dataframe tbody tr th {\n",
       "        vertical-align: top;\n",
       "    }\n",
       "\n",
       "    .dataframe thead th {\n",
       "        text-align: right;\n",
       "    }\n",
       "</style>\n",
       "<table border=\"1\" class=\"dataframe\">\n",
       "  <thead>\n",
       "    <tr style=\"text-align: right;\">\n",
       "      <th></th>\n",
       "      <th>'Year'</th>\n",
       "      <th>'Passenger'</th>\n",
       "      <th>'SUV'</th>\n",
       "    </tr>\n",
       "  </thead>\n",
       "  <tbody>\n",
       "    <tr>\n",
       "      <th>0</th>\n",
       "      <td>'1990'</td>\n",
       "      <td>9300</td>\n",
       "      <td>4560</td>\n",
       "    </tr>\n",
       "    <tr>\n",
       "      <th>1</th>\n",
       "      <td>'1995'</td>\n",
       "      <td>8500</td>\n",
       "      <td>6340</td>\n",
       "    </tr>\n",
       "    <tr>\n",
       "      <th>2</th>\n",
       "      <td>'2000'</td>\n",
       "      <td>8852</td>\n",
       "      <td>8492</td>\n",
       "    </tr>\n",
       "    <tr>\n",
       "      <th>3</th>\n",
       "      <td>'2005'</td>\n",
       "      <td>7720</td>\n",
       "      <td>9228</td>\n",
       "    </tr>\n",
       "    <tr>\n",
       "      <th>4</th>\n",
       "      <td>'2006'</td>\n",
       "      <td>7821</td>\n",
       "      <td>8683</td>\n",
       "    </tr>\n",
       "    <tr>\n",
       "      <th>5</th>\n",
       "      <td>'2007'</td>\n",
       "      <td>7618</td>\n",
       "      <td>8471</td>\n",
       "    </tr>\n",
       "    <tr>\n",
       "      <th>6</th>\n",
       "      <td>'2008'</td>\n",
       "      <td>6814</td>\n",
       "      <td>6382</td>\n",
       "    </tr>\n",
       "    <tr>\n",
       "      <th>7</th>\n",
       "      <td>'2009'</td>\n",
       "      <td>5456</td>\n",
       "      <td>4945</td>\n",
       "    </tr>\n",
       "    <tr>\n",
       "      <th>8</th>\n",
       "      <td>'2010'</td>\n",
       "      <td>5729</td>\n",
       "      <td>5826</td>\n",
       "    </tr>\n",
       "  </tbody>\n",
       "</table>\n",
       "</div>"
      ],
      "text/plain": [
       "   'Year'  'Passenger'  'SUV'\n",
       "0  '1990'         9300   4560\n",
       "1  '1995'         8500   6340\n",
       "2  '2000'         8852   8492\n",
       "3  '2005'         7720   9228\n",
       "4  '2006'         7821   8683\n",
       "5  '2007'         7618   8471\n",
       "6  '2008'         6814   6382\n",
       "7  '2009'         5456   4945\n",
       "8  '2010'         5729   5826"
      ]
     },
     "execution_count": 23,
     "metadata": {},
     "output_type": "execute_result"
    }
   ],
   "source": [
    "import matplotlib.pyplot as plt\n",
    "import numpy as np\n",
    "import pandas as pd\n",
    "\n",
    "df = pd.read_csv(\"ex3-2.txt\")\n",
    "df"
   ]
  },
  {
   "cell_type": "markdown",
   "id": "1d846094",
   "metadata": {},
   "source": [
    "\n",
    "#Exercise 3.2\n"
   ]
  },
  {
   "cell_type": "code",
   "execution_count": 31,
   "id": "565001f6",
   "metadata": {},
   "outputs": [
    {
     "data": {
      "image/png": "[encoded data removed]",
      "text/plain": [
       "<Figure size 432x288 with 1 Axes>"
      ]
     },
     "metadata": {
      "needs_background": "light"
     },
     "output_type": "display_data"
    }
   ],
   "source": [
    "passenger = df[\"'Passenger'\"]\n",
    "suv = df[\"'SUV'\"]\n",
    "year = df[\"'Year'\"]\n",
    "\n",
    "n=df.shape[0]\n",
    "x = np.arange(n)\n",
    "width = 0.30\n",
    "  \n",
    "  \n",
    "plt.bar(x, passenger, color = 'red', width=width, edgecolor = 'black', label='Passenger Cars')\n",
    "plt.bar(x + width, suv, color = 'g', width=\n",
    "        width, edgecolor = 'black',\n",
    "        label='SUV Cars')\n",
    "  \n",
    "plt.xlabel(\"Year\")\n",
    "plt.ylabel(\"Number of Vehicles\")\n",
    "\n",
    "\n",
    "plt.xticks(x + width/2,year)\n",
    "plt.legend()\n",
    "  \n",
    "plt.show()\n",
    "\n",
    "\n",
    "\n",
    "\n",
    "\n",
    "\n",
    "\n"
   ]
  },
  {
   "cell_type": "markdown",
   "id": "db0be1bc",
   "metadata": {},
   "source": [
    "b) The data shows a clear shift in the public's choice of vehicle from passenger cars to SUV/light trucks over time. This trend has been visualized using a bar plot that shows a decreasing trend in the number of passenger cars sold and an increasing trend in the number of SUV/light trucks sold. there may be several factors impacting the shift, such as changes in consumer preferences, fuel prices, or government regulations, on vehicle sales. Overall, this data provides valuable insights into the changing preferences of the US public when it comes to their choice of vehicle."
   ]
  },
  {
   "cell_type": "markdown",
   "id": "0810f5c3",
   "metadata": {},
   "source": [
    "#Exercise 3.4"
   ]
  },
  {
   "cell_type": "code",
   "execution_count": 57,
   "id": "a1b3291b",
   "metadata": {},
   "outputs": [
    {
     "data": {
      "text/plain": [
       "0.33000000000000007"
      ]
     },
     "execution_count": 57,
     "metadata": {},
     "output_type": "execute_result"
    }
   ],
   "source": [
    "df_4 = pd.read_csv('ex3-4.txt')\n",
    "flouride = df_4[\"'Floride'\"]\n",
    "range_data = max(flouride) - min(flouride)\n",
    "range_data"
   ]
  },
  {
   "cell_type": "code",
   "execution_count": 58,
   "id": "e9b4abe9",
   "metadata": {
    "scrolled": true
   },
   "outputs": [
    {
     "name": "stdout",
     "output_type": "stream",
     "text": [
      "b)\n"
     ]
    },
    {
     "data": {
      "image/png": "[encoded data removed]",
      "text/plain": [
       "<Figure size 432x288 with 1 Axes>"
      ]
     },
     "metadata": {
      "needs_background": "light"
     },
     "output_type": "display_data"
    }
   ],
   "source": [
    "fluoride = df_4[\"'Floride'\"]\n",
    "\n",
    "# Set up histogram parameters\n",
    "lower_limit = 0.705\n",
    "interval_width = 0.05\n",
    "num_bins = int(range / interval_width)\n",
    "\n",
    "print(\"b)\")\n",
    "# Create histogram\n",
    "plt.hist(data, bins=num_bins, range=[lower_limit, lower_limit + (num_bins * interval_width)])\n",
    "\n",
    "# Add labels and title\n",
    "plt.xlabel(\"Fluoride Level (ppm)\")\n",
    "plt.ylabel(\"Frequency\")\n",
    "plt.title(\"Frequency Histogram of Fluoride Levels\")\n",
    "\n",
    "# Display the plot\n",
    "plt.show()\n"
   ]
  },
  {
   "cell_type": "code",
   "execution_count": 59,
   "id": "2f6f72ec",
   "metadata": {},
   "outputs": [
    {
     "name": "stdout",
     "output_type": "stream",
     "text": [
      "c)\n"
     ]
    },
    {
     "data": {
      "image/png": "[encoded data removed]",
      "text/plain": [
       "<Figure size 432x288 with 1 Axes>"
      ]
     },
     "metadata": {
      "needs_background": "light"
     },
     "output_type": "display_data"
    }
   ],
   "source": [
    "# Create histogram with relative frequencies\n",
    "plt.hist(data, bins=num_bins, range=[lower_limit, lower_limit + (num_bins * interval_width)], density=True)\n",
    "\n",
    "print(\"c)\")\n",
    "# Add labels and title\n",
    "plt.xlabel(\"Fluoride Level (ppm)\")\n",
    "plt.ylabel(\"Relative Frequency\")\n",
    "plt.title(\"Relative Frequency Histogram of Fluoride Levels\")\n",
    "\n",
    "# Display the plot\n",
    "plt.show()\n"
   ]
  },
  {
   "cell_type": "code",
   "execution_count": 60,
   "id": "2a747331",
   "metadata": {},
   "outputs": [
    {
     "name": "stdout",
     "output_type": "stream",
     "text": [
      "d)\n",
      "Probability of a fluoride reading greater than 0.90 ppm: 0.28\n"
     ]
    }
   ],
   "source": [
    "print(\"d)\")\n",
    "probability = np.sum(data > 0.90) / len(data)\n",
    "print(\"Probability of a fluoride reading greater than 0.90 ppm:\", probability_greater_than_90)"
   ]
  },
  {
   "cell_type": "markdown",
   "id": "d2f50ce9",
   "metadata": {},
   "source": [
    "Proportion of days in the coming year will have a fluoride reading greater\n",
    "than .90 ppm = 0.28*365\n",
    "             = 102 days"
   ]
  },
  {
   "cell_type": "markdown",
   "id": "07123b9e",
   "metadata": {},
   "source": [
    "#Exercise 3.10\n"
   ]
  },
  {
   "cell_type": "code",
   "execution_count": 62,
   "id": "4911db15",
   "metadata": {},
   "outputs": [
    {
     "data": {
      "text/html": [
       "<div>\n",
       "<style scoped>\n",
       "    .dataframe tbody tr th:only-of-type {\n",
       "        vertical-align: middle;\n",
       "    }\n",
       "\n",
       "    .dataframe tbody tr th {\n",
       "        vertical-align: top;\n",
       "    }\n",
       "\n",
       "    .dataframe thead th {\n",
       "        text-align: right;\n",
       "    }\n",
       "</style>\n",
       "<table border=\"1\" class=\"dataframe\">\n",
       "  <thead>\n",
       "    <tr style=\"text-align: right;\">\n",
       "      <th></th>\n",
       "      <th>'State'</th>\n",
       "      <th>'1985'</th>\n",
       "      <th>'1996'</th>\n",
       "      <th>'2002'</th>\n",
       "    </tr>\n",
       "  </thead>\n",
       "  <tbody>\n",
       "    <tr>\n",
       "      <th>0</th>\n",
       "      <td>1</td>\n",
       "      <td>70.4</td>\n",
       "      <td>71.0</td>\n",
       "      <td>73.5</td>\n",
       "    </tr>\n",
       "    <tr>\n",
       "      <th>1</th>\n",
       "      <td>2</td>\n",
       "      <td>61.2</td>\n",
       "      <td>62.9</td>\n",
       "      <td>67.3</td>\n",
       "    </tr>\n",
       "    <tr>\n",
       "      <th>2</th>\n",
       "      <td>3</td>\n",
       "      <td>64.7</td>\n",
       "      <td>62.0</td>\n",
       "      <td>65.9</td>\n",
       "    </tr>\n",
       "    <tr>\n",
       "      <th>3</th>\n",
       "      <td>4</td>\n",
       "      <td>66.6</td>\n",
       "      <td>66.6</td>\n",
       "      <td>70.2</td>\n",
       "    </tr>\n",
       "    <tr>\n",
       "      <th>4</th>\n",
       "      <td>5</td>\n",
       "      <td>54.2</td>\n",
       "      <td>55.0</td>\n",
       "      <td>58.0</td>\n",
       "    </tr>\n",
       "  </tbody>\n",
       "</table>\n",
       "</div>"
      ],
      "text/plain": [
       "   'State'  '1985'  '1996'  '2002'\n",
       "0        1    70.4    71.0    73.5\n",
       "1        2    61.2    62.9    67.3\n",
       "2        3    64.7    62.0    65.9\n",
       "3        4    66.6    66.6    70.2\n",
       "4        5    54.2    55.0    58.0"
      ]
     },
     "execution_count": 62,
     "metadata": {},
     "output_type": "execute_result"
    }
   ],
   "source": [
    "df_10 = pd.read_csv(\"ex3-10.txt\")\n",
    "df_10.head()"
   ]
  },
  {
   "cell_type": "code",
   "execution_count": 68,
   "id": "8d58e02c",
   "metadata": {},
   "outputs": [
    {
     "data": {
      "image/png": "[encoded data removed]",
      "text/plain": [
       "<Figure size 432x288 with 1 Axes>"
      ]
     },
     "metadata": {
      "needs_background": "light"
     },
     "output_type": "display_data"
    },
    {
     "data": {
      "image/png": "[encoded data removed]",
      "text/plain": [
       "<Figure size 432x288 with 1 Axes>"
      ]
     },
     "metadata": {
      "needs_background": "light"
     },
     "output_type": "display_data"
    },
    {
     "data": {
      "image/png": "[encoded data removed]",
      "text/plain": [
       "<Figure size 432x288 with 1 Axes>"
      ]
     },
     "metadata": {
      "needs_background": "light"
     },
     "output_type": "display_data"
    }
   ],
   "source": [
    "\n",
    "for year in [\"'1985'\", \"'1996'\", \"'2002'\"]:\n",
    "    year_df = df_10[year]\n",
    "    rel_freq = year_df.value_counts(normalize=True)\n",
    "    plt.hist(year_df, bins=20, density=True)\n",
    "    plt.title(f\"Relative Frequency Histogram for Homeownership Rates in {year}\")\n",
    "    plt.xlabel(\"Homeownership Rate (%)\")\n",
    "    plt.ylabel(\"Relative Frequency\")\n",
    "    plt.show()"
   ]
  },
  {
   "cell_type": "markdown",
   "id": "25eb0745",
   "metadata": {},
   "source": [
    "b) The homeownership rates in most states increased in 2002 compared to 1985 and 1996, as seen in the shift to the right in the distributions of rates. The range of rates in 1996 and 2002 was smaller than in 1985. The peak of the 2002 histogram was higher, indicating that a greater number of states had higher homeownership rates in 2002 than in 1985 and 1996.\n",
    "c) There are several factors that may have played a role in the changes observed in homeownership rates, including economic conditions, government policies, and cultural factors. A strong economy can provide people with greater job security and income, potentially making them more inclined to purchase a home. Government policies, such as tax incentives, subsidies, and regulations, can also affect homeownership rates. Additionally, cultural shifts in attitudes towards homeownership or renting may impact the demand for housing and ultimately affect homeownership rates.\n",
    "d)The plots indicating an increase in homeownership rates may influence Congress's decision-making regarding tax laws that provide significant deductions for homeownership. Congress may consider providing targeted tax deductions for states with low homeownership rates, which could lead to an increase in homeownership. However, it is crucial to carefully craft these tax policies to avoid unintended consequences, such as encouraging unaffordable purchases or excessive debt."
   ]
  },
  {
   "cell_type": "markdown",
   "id": "7c0a98db",
   "metadata": {},
   "source": [
    "#Exercise 3.22\n"
   ]
  },
  {
   "cell_type": "code",
   "execution_count": 69,
   "id": "9a23f34f",
   "metadata": {},
   "outputs": [
    {
     "data": {
      "text/html": [
       "<div>\n",
       "<style scoped>\n",
       "    .dataframe tbody tr th:only-of-type {\n",
       "        vertical-align: middle;\n",
       "    }\n",
       "\n",
       "    .dataframe tbody tr th {\n",
       "        vertical-align: top;\n",
       "    }\n",
       "\n",
       "    .dataframe thead th {\n",
       "        text-align: right;\n",
       "    }\n",
       "</style>\n",
       "<table border=\"1\" class=\"dataframe\">\n",
       "  <thead>\n",
       "    <tr style=\"text-align: right;\">\n",
       "      <th></th>\n",
       "      <th>'Survival'</th>\n",
       "    </tr>\n",
       "  </thead>\n",
       "  <tbody>\n",
       "    <tr>\n",
       "      <th>0</th>\n",
       "      <td>37</td>\n",
       "    </tr>\n",
       "    <tr>\n",
       "      <th>1</th>\n",
       "      <td>19</td>\n",
       "    </tr>\n",
       "    <tr>\n",
       "      <th>2</th>\n",
       "      <td>57</td>\n",
       "    </tr>\n",
       "    <tr>\n",
       "      <th>3</th>\n",
       "      <td>93</td>\n",
       "    </tr>\n",
       "    <tr>\n",
       "      <th>4</th>\n",
       "      <td>16</td>\n",
       "    </tr>\n",
       "    <tr>\n",
       "      <th>5</th>\n",
       "      <td>22</td>\n",
       "    </tr>\n",
       "    <tr>\n",
       "      <th>6</th>\n",
       "      <td>20</td>\n",
       "    </tr>\n",
       "    <tr>\n",
       "      <th>7</th>\n",
       "      <td>18</td>\n",
       "    </tr>\n",
       "    <tr>\n",
       "      <th>8</th>\n",
       "      <td>63</td>\n",
       "    </tr>\n",
       "    <tr>\n",
       "      <th>9</th>\n",
       "      <td>29</td>\n",
       "    </tr>\n",
       "    <tr>\n",
       "      <th>10</th>\n",
       "      <td>60</td>\n",
       "    </tr>\n",
       "  </tbody>\n",
       "</table>\n",
       "</div>"
      ],
      "text/plain": [
       "    'Survival'\n",
       "0           37\n",
       "1           19\n",
       "2           57\n",
       "3           93\n",
       "4           16\n",
       "5           22\n",
       "6           20\n",
       "7           18\n",
       "8           63\n",
       "9           29\n",
       "10          60"
      ]
     },
     "execution_count": 69,
     "metadata": {},
     "output_type": "execute_result"
    }
   ],
   "source": [
    "df_22 = pd.read_csv(\"ex3-22.txt\")\n",
    "df_22"
   ]
  },
  {
   "cell_type": "code",
   "execution_count": 70,
   "id": "67d2dbcd",
   "metadata": {},
   "outputs": [
    {
     "name": "stdout",
     "output_type": "stream",
     "text": [
      "Mean: 39.45\n",
      "Median: 29.0\n"
     ]
    }
   ],
   "source": [
    "survival = list(df_22[\"'Survival'\"])\n",
    "\n",
    "mean = np.mean(survival)\n",
    "\n",
    "median = np.median(survival)\n",
    "\n",
    "print(f\"Mean: {mean:.2f}\")\n",
    "print(f\"Median: {median}\")\n"
   ]
  },
  {
   "cell_type": "code",
   "execution_count": 71,
   "id": "8cd9b572",
   "metadata": {},
   "outputs": [
    {
     "name": "stdout",
     "output_type": "stream",
     "text": [
      "Mean: 38.46\n",
      "Median: 29.0\n"
     ]
    }
   ],
   "source": [
    "survival.extend([24,42])\n",
    "\n",
    "mean = np.mean(survival)\n",
    "\n",
    "median = np.median(survival)\n",
    "\n",
    "print(f\"Mean: {mean:.2f}\")\n",
    "print(f\"Median: {median}\")"
   ]
  },
  {
   "cell_type": "markdown",
   "id": "72b5059d",
   "metadata": {},
   "source": [
    "After adding the survival times of the two patients who left the study at 24 and 42, the mean survival time decreases by 0.99. However, the median survival time remains the same."
   ]
  },
  {
   "cell_type": "markdown",
   "id": "956a70b1",
   "metadata": {},
   "source": [
    "#Exercise 3.80"
   ]
  },
  {
   "cell_type": "code",
   "execution_count": 72,
   "id": "b8002b30",
   "metadata": {},
   "outputs": [
    {
     "data": {
      "text/html": [
       "<div>\n",
       "<style scoped>\n",
       "    .dataframe tbody tr th:only-of-type {\n",
       "        vertical-align: middle;\n",
       "    }\n",
       "\n",
       "    .dataframe tbody tr th {\n",
       "        vertical-align: top;\n",
       "    }\n",
       "\n",
       "    .dataframe thead th {\n",
       "        text-align: right;\n",
       "    }\n",
       "</style>\n",
       "<table border=\"1\" class=\"dataframe\">\n",
       "  <thead>\n",
       "    <tr style=\"text-align: right;\">\n",
       "      <th></th>\n",
       "      <th>'Price'</th>\n",
       "      <th>'AirFlow'</th>\n",
       "    </tr>\n",
       "  </thead>\n",
       "  <tbody>\n",
       "    <tr>\n",
       "      <th>0</th>\n",
       "      <td>95</td>\n",
       "      <td>60</td>\n",
       "    </tr>\n",
       "    <tr>\n",
       "      <th>1</th>\n",
       "      <td>115</td>\n",
       "      <td>60</td>\n",
       "    </tr>\n",
       "    <tr>\n",
       "      <th>2</th>\n",
       "      <td>110</td>\n",
       "      <td>60</td>\n",
       "    </tr>\n",
       "    <tr>\n",
       "      <th>3</th>\n",
       "      <td>15</td>\n",
       "      <td>55</td>\n",
       "    </tr>\n",
       "    <tr>\n",
       "      <th>4</th>\n",
       "      <td>20</td>\n",
       "      <td>55</td>\n",
       "    </tr>\n",
       "    <tr>\n",
       "      <th>5</th>\n",
       "      <td>20</td>\n",
       "      <td>55</td>\n",
       "    </tr>\n",
       "    <tr>\n",
       "      <th>6</th>\n",
       "      <td>75</td>\n",
       "      <td>85</td>\n",
       "    </tr>\n",
       "    <tr>\n",
       "      <th>7</th>\n",
       "      <td>150</td>\n",
       "      <td>80</td>\n",
       "    </tr>\n",
       "    <tr>\n",
       "      <th>8</th>\n",
       "      <td>60</td>\n",
       "      <td>80</td>\n",
       "    </tr>\n",
       "    <tr>\n",
       "      <th>9</th>\n",
       "      <td>60</td>\n",
       "      <td>75</td>\n",
       "    </tr>\n",
       "    <tr>\n",
       "      <th>10</th>\n",
       "      <td>160</td>\n",
       "      <td>90</td>\n",
       "    </tr>\n",
       "    <tr>\n",
       "      <th>11</th>\n",
       "      <td>125</td>\n",
       "      <td>90</td>\n",
       "    </tr>\n",
       "    <tr>\n",
       "      <th>12</th>\n",
       "      <td>125</td>\n",
       "      <td>100</td>\n",
       "    </tr>\n",
       "    <tr>\n",
       "      <th>13</th>\n",
       "      <td>110</td>\n",
       "      <td>110</td>\n",
       "    </tr>\n",
       "    <tr>\n",
       "      <th>14</th>\n",
       "      <td>130</td>\n",
       "      <td>90</td>\n",
       "    </tr>\n",
       "    <tr>\n",
       "      <th>15</th>\n",
       "      <td>125</td>\n",
       "      <td>90</td>\n",
       "    </tr>\n",
       "    <tr>\n",
       "      <th>16</th>\n",
       "      <td>30</td>\n",
       "      <td>90</td>\n",
       "    </tr>\n",
       "    <tr>\n",
       "      <th>17</th>\n",
       "      <td>60</td>\n",
       "      <td>110</td>\n",
       "    </tr>\n",
       "    <tr>\n",
       "      <th>18</th>\n",
       "      <td>110</td>\n",
       "      <td>110</td>\n",
       "    </tr>\n",
       "    <tr>\n",
       "      <th>19</th>\n",
       "      <td>85</td>\n",
       "      <td>60</td>\n",
       "    </tr>\n",
       "  </tbody>\n",
       "</table>\n",
       "</div>"
      ],
      "text/plain": [
       "    'Price'  'AirFlow'\n",
       "0        95         60\n",
       "1       115         60\n",
       "2       110         60\n",
       "3        15         55\n",
       "4        20         55\n",
       "5        20         55\n",
       "6        75         85\n",
       "7       150         80\n",
       "8        60         80\n",
       "9        60         75\n",
       "10      160         90\n",
       "11      125         90\n",
       "12      125        100\n",
       "13      110        110\n",
       "14      130         90\n",
       "15      125         90\n",
       "16       30         90\n",
       "17       60        110\n",
       "18      110        110\n",
       "19       85         60"
      ]
     },
     "execution_count": 72,
     "metadata": {},
     "output_type": "execute_result"
    }
   ],
   "source": [
    "df_80 = pd.read_csv('ex3-80.txt')\n",
    "df_80"
   ]
  },
  {
   "cell_type": "code",
   "execution_count": null,
   "id": "32e232f4",
   "metadata": {},
   "outputs": [],
   "source": [
    "\n",
    "price = list(df_80[\"'Price'\"])\n",
    "airflow = list(df_80[\"'AirFlow'\"])\n",
    "\n",
    "plt.scatter(price, airflow)\n",
    "plt.xlabel('Price ($)')\n",
    "plt.ylabel('Airflow (cfm)')\n",
    "plt.title('Price v/s Airflow')\n",
    "plt.show()\n"
   ]
  },
  {
   "cell_type": "markdown",
   "id": "21dc0376",
   "metadata": {},
   "source": [
    "a)From the plot there seems to exist a weak positive relationship betwee price and airflow."
   ]
  },
  {
   "cell_type": "code",
   "execution_count": 77,
   "id": "99f62590",
   "metadata": {},
   "outputs": [
    {
     "name": "stdout",
     "output_type": "stream",
     "text": [
      "Correlation Coefficient: 0.413\n"
     ]
    }
   ],
   "source": [
    "corr_coef = np.corrcoef(price, airflow)[0, 1]\n",
    "print(f\"Correlation coefficient: {corr_coef:.3f}\")"
   ]
  },
  {
   "cell_type": "markdown",
   "id": "6debe2cf",
   "metadata": {},
   "source": [
    "b) There seems to be a weak correlation between the two.\n",
    "c)The corelation coeffecient is consistent with the scatterplot.\n",
    "d)d) From the above two parts it would be reasonable to conclude that higher priced fans generate relativ airflow.\n",
    "\n"
   ]
  }
 ],
 "metadata": {
  "kernelspec": {
   "display_name": "Python 3 (ipykernel)",
   "language": "python",
   "name": "python3"
  },
  "language_info": {
   "codemirror_mode": {
    "name": "ipython",
    "version": 3
   },
   "file_extension": ".py",
   "mimetype": "text/x-python",
   "name": "python",
   "nbconvert_exporter": "python",
   "pygments_lexer": "ipython3",
   "version": "3.9.7"
  }
 },
 "nbformat": 4,
 "nbformat_minor": 5
}
