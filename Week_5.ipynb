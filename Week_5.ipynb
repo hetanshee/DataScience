{
 "cells": [
  {
   "cell_type": "code",
   "execution_count": 1,
   "id": "af4ad1fe",
   "metadata": {},
   "outputs": [],
   "source": [
    "import matplotlib.pyplot as plt\n",
    "import pandas as pd\n",
    "import numpy as np"
   ]
  },
  {
   "cell_type": "code",
   "execution_count": 2,
   "id": "ce6d56ec",
   "metadata": {},
   "outputs": [
    {
     "data": {
      "text/html": [
       "<div>\n",
       "<style scoped>\n",
       "    .dataframe tbody tr th:only-of-type {\n",
       "        vertical-align: middle;\n",
       "    }\n",
       "\n",
       "    .dataframe tbody tr th {\n",
       "        vertical-align: top;\n",
       "    }\n",
       "\n",
       "    .dataframe thead th {\n",
       "        text-align: right;\n",
       "    }\n",
       "</style>\n",
       "<table border=\"1\" class=\"dataframe\">\n",
       "  <thead>\n",
       "    <tr style=\"text-align: right;\">\n",
       "      <th></th>\n",
       "      <th>Year</th>\n",
       "      <th>Age</th>\n",
       "      <th>Gender</th>\n",
       "      <th>Educational Attainment</th>\n",
       "      <th>Personal Income</th>\n",
       "      <th>Population Count</th>\n",
       "    </tr>\n",
       "  </thead>\n",
       "  <tbody>\n",
       "    <tr>\n",
       "      <th>0</th>\n",
       "      <td>01-01-2008 00:00</td>\n",
       "      <td>00 to 17</td>\n",
       "      <td>Male</td>\n",
       "      <td>Children under 15</td>\n",
       "      <td>No Income</td>\n",
       "      <td>NaN</td>\n",
       "    </tr>\n",
       "    <tr>\n",
       "      <th>1</th>\n",
       "      <td>01-01-2008 00:00</td>\n",
       "      <td>00 to 17</td>\n",
       "      <td>Male</td>\n",
       "      <td>No high school diploma</td>\n",
       "      <td>No Income</td>\n",
       "      <td>650889.0</td>\n",
       "    </tr>\n",
       "    <tr>\n",
       "      <th>2</th>\n",
       "      <td>01-01-2008 00:00</td>\n",
       "      <td>00 to 17</td>\n",
       "      <td>Male</td>\n",
       "      <td>No high school diploma</td>\n",
       "      <td>$5,000 to $9,999</td>\n",
       "      <td>30152.0</td>\n",
       "    </tr>\n",
       "    <tr>\n",
       "      <th>3</th>\n",
       "      <td>01-01-2008 00:00</td>\n",
       "      <td>00 to 17</td>\n",
       "      <td>Male</td>\n",
       "      <td>No high school diploma</td>\n",
       "      <td>$10,000 to $14,999</td>\n",
       "      <td>7092.0</td>\n",
       "    </tr>\n",
       "    <tr>\n",
       "      <th>4</th>\n",
       "      <td>01-01-2008 00:00</td>\n",
       "      <td>00 to 17</td>\n",
       "      <td>Male</td>\n",
       "      <td>No high school diploma</td>\n",
       "      <td>$15,000 to $24,999</td>\n",
       "      <td>3974.0</td>\n",
       "    </tr>\n",
       "    <tr>\n",
       "      <th>5</th>\n",
       "      <td>01-01-2008 00:00</td>\n",
       "      <td>00 to 17</td>\n",
       "      <td>Male</td>\n",
       "      <td>No high school diploma</td>\n",
       "      <td>$25,000 to $34,999</td>\n",
       "      <td>2606.0</td>\n",
       "    </tr>\n",
       "    <tr>\n",
       "      <th>6</th>\n",
       "      <td>01-01-2008 00:00</td>\n",
       "      <td>00 to 17</td>\n",
       "      <td>Male</td>\n",
       "      <td>No high school diploma</td>\n",
       "      <td>$35,000 to $49,999</td>\n",
       "      <td>2227.0</td>\n",
       "    </tr>\n",
       "    <tr>\n",
       "      <th>7</th>\n",
       "      <td>01-01-2008 00:00</td>\n",
       "      <td>00 to 17</td>\n",
       "      <td>Male</td>\n",
       "      <td>High school or equivalent</td>\n",
       "      <td>No Income</td>\n",
       "      <td>NaN</td>\n",
       "    </tr>\n",
       "    <tr>\n",
       "      <th>8</th>\n",
       "      <td>01-01-2008 00:00</td>\n",
       "      <td>00 to 17</td>\n",
       "      <td>Male</td>\n",
       "      <td>Some college, less than 4-yr degree</td>\n",
       "      <td>No Income</td>\n",
       "      <td>8664.0</td>\n",
       "    </tr>\n",
       "    <tr>\n",
       "      <th>9</th>\n",
       "      <td>01-01-2008 00:00</td>\n",
       "      <td>00 to 17</td>\n",
       "      <td>Male</td>\n",
       "      <td>Some college, less than 4-yr degree</td>\n",
       "      <td>$10,000 to $14,999</td>\n",
       "      <td>1304.0</td>\n",
       "    </tr>\n",
       "    <tr>\n",
       "      <th>10</th>\n",
       "      <td>01-01-2008 00:00</td>\n",
       "      <td>00 to 17</td>\n",
       "      <td>Male</td>\n",
       "      <td>Some college, less than 4-yr degree</td>\n",
       "      <td>$15,000 to $24,999</td>\n",
       "      <td>3465.0</td>\n",
       "    </tr>\n",
       "    <tr>\n",
       "      <th>11</th>\n",
       "      <td>01-01-2008 00:00</td>\n",
       "      <td>00 to 17</td>\n",
       "      <td>Male</td>\n",
       "      <td>Bachelor's degree or higher</td>\n",
       "      <td>No Income</td>\n",
       "      <td>NaN</td>\n",
       "    </tr>\n",
       "    <tr>\n",
       "      <th>12</th>\n",
       "      <td>01-01-2008 00:00</td>\n",
       "      <td>00 to 17</td>\n",
       "      <td>Female</td>\n",
       "      <td>Children under 15</td>\n",
       "      <td>No Income</td>\n",
       "      <td>NaN</td>\n",
       "    </tr>\n",
       "    <tr>\n",
       "      <th>13</th>\n",
       "      <td>01-01-2008 00:00</td>\n",
       "      <td>00 to 17</td>\n",
       "      <td>Female</td>\n",
       "      <td>No high school diploma</td>\n",
       "      <td>No Income</td>\n",
       "      <td>635274.0</td>\n",
       "    </tr>\n",
       "    <tr>\n",
       "      <th>14</th>\n",
       "      <td>01-01-2008 00:00</td>\n",
       "      <td>00 to 17</td>\n",
       "      <td>Female</td>\n",
       "      <td>No high school diploma</td>\n",
       "      <td>$5,000 to $9,999</td>\n",
       "      <td>33202.0</td>\n",
       "    </tr>\n",
       "  </tbody>\n",
       "</table>\n",
       "</div>"
      ],
      "text/plain": [
       "                Year       Age  Gender               Educational Attainment  \\\n",
       "0   01-01-2008 00:00  00 to 17    Male                    Children under 15   \n",
       "1   01-01-2008 00:00  00 to 17    Male               No high school diploma   \n",
       "2   01-01-2008 00:00  00 to 17    Male               No high school diploma   \n",
       "3   01-01-2008 00:00  00 to 17    Male               No high school diploma   \n",
       "4   01-01-2008 00:00  00 to 17    Male               No high school diploma   \n",
       "5   01-01-2008 00:00  00 to 17    Male               No high school diploma   \n",
       "6   01-01-2008 00:00  00 to 17    Male               No high school diploma   \n",
       "7   01-01-2008 00:00  00 to 17    Male            High school or equivalent   \n",
       "8   01-01-2008 00:00  00 to 17    Male  Some college, less than 4-yr degree   \n",
       "9   01-01-2008 00:00  00 to 17    Male  Some college, less than 4-yr degree   \n",
       "10  01-01-2008 00:00  00 to 17    Male  Some college, less than 4-yr degree   \n",
       "11  01-01-2008 00:00  00 to 17    Male          Bachelor's degree or higher   \n",
       "12  01-01-2008 00:00  00 to 17  Female                    Children under 15   \n",
       "13  01-01-2008 00:00  00 to 17  Female               No high school diploma   \n",
       "14  01-01-2008 00:00  00 to 17  Female               No high school diploma   \n",
       "\n",
       "       Personal Income  Population Count  \n",
       "0            No Income               NaN  \n",
       "1            No Income          650889.0  \n",
       "2     $5,000 to $9,999           30152.0  \n",
       "3   $10,000 to $14,999            7092.0  \n",
       "4   $15,000 to $24,999            3974.0  \n",
       "5   $25,000 to $34,999            2606.0  \n",
       "6   $35,000 to $49,999            2227.0  \n",
       "7            No Income               NaN  \n",
       "8            No Income            8664.0  \n",
       "9   $10,000 to $14,999            1304.0  \n",
       "10  $15,000 to $24,999            3465.0  \n",
       "11           No Income               NaN  \n",
       "12           No Income               NaN  \n",
       "13           No Income          635274.0  \n",
       "14    $5,000 to $9,999           33202.0  "
      ]
     },
     "execution_count": 2,
     "metadata": {},
     "output_type": "execute_result"
    }
   ],
   "source": [
    "df = pd.read_csv(\"education_datascience.csv\")\n",
    "df.head(15)"
   ]
  },
  {
   "cell_type": "code",
   "execution_count": 3,
   "id": "3a113e84",
   "metadata": {},
   "outputs": [
    {
     "data": {
      "text/html": [
       "<div>\n",
       "<style scoped>\n",
       "    .dataframe tbody tr th:only-of-type {\n",
       "        vertical-align: middle;\n",
       "    }\n",
       "\n",
       "    .dataframe tbody tr th {\n",
       "        vertical-align: top;\n",
       "    }\n",
       "\n",
       "    .dataframe thead th {\n",
       "        text-align: right;\n",
       "    }\n",
       "</style>\n",
       "<table border=\"1\" class=\"dataframe\">\n",
       "  <thead>\n",
       "    <tr style=\"text-align: right;\">\n",
       "      <th></th>\n",
       "      <th>Population Count</th>\n",
       "    </tr>\n",
       "  </thead>\n",
       "  <tbody>\n",
       "    <tr>\n",
       "      <th>count</th>\n",
       "      <td>1.026000e+03</td>\n",
       "    </tr>\n",
       "    <tr>\n",
       "      <th>mean</th>\n",
       "      <td>1.855429e+05</td>\n",
       "    </tr>\n",
       "    <tr>\n",
       "      <th>std</th>\n",
       "      <td>2.187005e+05</td>\n",
       "    </tr>\n",
       "    <tr>\n",
       "      <th>min</th>\n",
       "      <td>1.048000e+03</td>\n",
       "    </tr>\n",
       "    <tr>\n",
       "      <th>25%</th>\n",
       "      <td>3.052250e+04</td>\n",
       "    </tr>\n",
       "    <tr>\n",
       "      <th>50%</th>\n",
       "      <td>9.039300e+04</td>\n",
       "    </tr>\n",
       "    <tr>\n",
       "      <th>75%</th>\n",
       "      <td>2.879518e+05</td>\n",
       "    </tr>\n",
       "    <tr>\n",
       "      <th>max</th>\n",
       "      <td>1.643095e+06</td>\n",
       "    </tr>\n",
       "  </tbody>\n",
       "</table>\n",
       "</div>"
      ],
      "text/plain": [
       "       Population Count\n",
       "count      1.026000e+03\n",
       "mean       1.855429e+05\n",
       "std        2.187005e+05\n",
       "min        1.048000e+03\n",
       "25%        3.052250e+04\n",
       "50%        9.039300e+04\n",
       "75%        2.879518e+05\n",
       "max        1.643095e+06"
      ]
     },
     "execution_count": 3,
     "metadata": {},
     "output_type": "execute_result"
    }
   ],
   "source": [
    "df.describe()"
   ]
  },
  {
   "cell_type": "code",
   "execution_count": 7,
   "id": "55993b4a",
   "metadata": {},
   "outputs": [
    {
     "data": {
      "text/plain": [
       "Year                       object\n",
       "Age                        object\n",
       "Gender                     object\n",
       "Educational Attainment     object\n",
       "Personal Income            object\n",
       "Population Count          float64\n",
       "dtype: object"
      ]
     },
     "execution_count": 7,
     "metadata": {},
     "output_type": "execute_result"
    }
   ],
   "source": [
    "df.dtypes"
   ]
  },
  {
   "cell_type": "code",
   "execution_count": 8,
   "id": "2e214047",
   "metadata": {},
   "outputs": [
    {
     "data": {
      "text/html": [
       "<div>\n",
       "<style scoped>\n",
       "    .dataframe tbody tr th:only-of-type {\n",
       "        vertical-align: middle;\n",
       "    }\n",
       "\n",
       "    .dataframe tbody tr th {\n",
       "        vertical-align: top;\n",
       "    }\n",
       "\n",
       "    .dataframe thead th {\n",
       "        text-align: right;\n",
       "    }\n",
       "</style>\n",
       "<table border=\"1\" class=\"dataframe\">\n",
       "  <thead>\n",
       "    <tr style=\"text-align: right;\">\n",
       "      <th></th>\n",
       "      <th>Year</th>\n",
       "      <th>Age</th>\n",
       "      <th>Gender</th>\n",
       "      <th>Educational Attainment</th>\n",
       "      <th>Personal Income</th>\n",
       "      <th>Population Count</th>\n",
       "    </tr>\n",
       "  </thead>\n",
       "  <tbody>\n",
       "    <tr>\n",
       "      <th>1</th>\n",
       "      <td>01-01-2008 00:00</td>\n",
       "      <td>00 to 17</td>\n",
       "      <td>Male</td>\n",
       "      <td>No high school diploma</td>\n",
       "      <td>No Income</td>\n",
       "      <td>650889.0</td>\n",
       "    </tr>\n",
       "    <tr>\n",
       "      <th>2</th>\n",
       "      <td>01-01-2008 00:00</td>\n",
       "      <td>00 to 17</td>\n",
       "      <td>Male</td>\n",
       "      <td>No high school diploma</td>\n",
       "      <td>$5,000 to $9,999</td>\n",
       "      <td>30152.0</td>\n",
       "    </tr>\n",
       "    <tr>\n",
       "      <th>3</th>\n",
       "      <td>01-01-2008 00:00</td>\n",
       "      <td>00 to 17</td>\n",
       "      <td>Male</td>\n",
       "      <td>No high school diploma</td>\n",
       "      <td>$10,000 to $14,999</td>\n",
       "      <td>7092.0</td>\n",
       "    </tr>\n",
       "    <tr>\n",
       "      <th>4</th>\n",
       "      <td>01-01-2008 00:00</td>\n",
       "      <td>00 to 17</td>\n",
       "      <td>Male</td>\n",
       "      <td>No high school diploma</td>\n",
       "      <td>$15,000 to $24,999</td>\n",
       "      <td>3974.0</td>\n",
       "    </tr>\n",
       "    <tr>\n",
       "      <th>5</th>\n",
       "      <td>01-01-2008 00:00</td>\n",
       "      <td>00 to 17</td>\n",
       "      <td>Male</td>\n",
       "      <td>No high school diploma</td>\n",
       "      <td>$25,000 to $34,999</td>\n",
       "      <td>2606.0</td>\n",
       "    </tr>\n",
       "  </tbody>\n",
       "</table>\n",
       "</div>"
      ],
      "text/plain": [
       "               Year       Age Gender  Educational Attainment  \\\n",
       "1  01-01-2008 00:00  00 to 17   Male  No high school diploma   \n",
       "2  01-01-2008 00:00  00 to 17   Male  No high school diploma   \n",
       "3  01-01-2008 00:00  00 to 17   Male  No high school diploma   \n",
       "4  01-01-2008 00:00  00 to 17   Male  No high school diploma   \n",
       "5  01-01-2008 00:00  00 to 17   Male  No high school diploma   \n",
       "\n",
       "      Personal Income  Population Count  \n",
       "1           No Income          650889.0  \n",
       "2    $5,000 to $9,999           30152.0  \n",
       "3  $10,000 to $14,999            7092.0  \n",
       "4  $15,000 to $24,999            3974.0  \n",
       "5  $25,000 to $34,999            2606.0  "
      ]
     },
     "execution_count": 8,
     "metadata": {},
     "output_type": "execute_result"
    }
   ],
   "source": [
    "df = df.dropna(subset=['Population Count'])\n",
    "df.head()"
   ]
  },
  {
   "cell_type": "code",
   "execution_count": 9,
   "id": "52f488a4",
   "metadata": {},
   "outputs": [],
   "source": [
    "df = df[df['Educational Attainment'] != 'Children under 15']"
   ]
  },
  {
   "cell_type": "code",
   "execution_count": 10,
   "id": "93dba483",
   "metadata": {},
   "outputs": [
    {
     "data": {
      "text/html": [
       "<div>\n",
       "<style scoped>\n",
       "    .dataframe tbody tr th:only-of-type {\n",
       "        vertical-align: middle;\n",
       "    }\n",
       "\n",
       "    .dataframe tbody tr th {\n",
       "        vertical-align: top;\n",
       "    }\n",
       "\n",
       "    .dataframe thead th {\n",
       "        text-align: right;\n",
       "    }\n",
       "</style>\n",
       "<table border=\"1\" class=\"dataframe\">\n",
       "  <thead>\n",
       "    <tr style=\"text-align: right;\">\n",
       "      <th></th>\n",
       "      <th>Year</th>\n",
       "      <th>Age</th>\n",
       "      <th>Gender</th>\n",
       "      <th>Educational Attainment</th>\n",
       "      <th>Personal Income</th>\n",
       "      <th>Population Count</th>\n",
       "    </tr>\n",
       "  </thead>\n",
       "  <tbody>\n",
       "    <tr>\n",
       "      <th>1</th>\n",
       "      <td>01-01-2008 00:00</td>\n",
       "      <td>00 to 17</td>\n",
       "      <td>Male</td>\n",
       "      <td>No high school diploma</td>\n",
       "      <td>No Income</td>\n",
       "      <td>650889.0</td>\n",
       "    </tr>\n",
       "    <tr>\n",
       "      <th>2</th>\n",
       "      <td>01-01-2008 00:00</td>\n",
       "      <td>00 to 17</td>\n",
       "      <td>Male</td>\n",
       "      <td>No high school diploma</td>\n",
       "      <td>$5,000 to $9,999</td>\n",
       "      <td>30152.0</td>\n",
       "    </tr>\n",
       "    <tr>\n",
       "      <th>3</th>\n",
       "      <td>01-01-2008 00:00</td>\n",
       "      <td>00 to 17</td>\n",
       "      <td>Male</td>\n",
       "      <td>No high school diploma</td>\n",
       "      <td>$10,000 to $14,999</td>\n",
       "      <td>7092.0</td>\n",
       "    </tr>\n",
       "    <tr>\n",
       "      <th>4</th>\n",
       "      <td>01-01-2008 00:00</td>\n",
       "      <td>00 to 17</td>\n",
       "      <td>Male</td>\n",
       "      <td>No high school diploma</td>\n",
       "      <td>$15,000 to $24,999</td>\n",
       "      <td>3974.0</td>\n",
       "    </tr>\n",
       "    <tr>\n",
       "      <th>5</th>\n",
       "      <td>01-01-2008 00:00</td>\n",
       "      <td>00 to 17</td>\n",
       "      <td>Male</td>\n",
       "      <td>No high school diploma</td>\n",
       "      <td>$25,000 to $34,999</td>\n",
       "      <td>2606.0</td>\n",
       "    </tr>\n",
       "    <tr>\n",
       "      <th>6</th>\n",
       "      <td>01-01-2008 00:00</td>\n",
       "      <td>00 to 17</td>\n",
       "      <td>Male</td>\n",
       "      <td>No high school diploma</td>\n",
       "      <td>$35,000 to $49,999</td>\n",
       "      <td>2227.0</td>\n",
       "    </tr>\n",
       "    <tr>\n",
       "      <th>8</th>\n",
       "      <td>01-01-2008 00:00</td>\n",
       "      <td>00 to 17</td>\n",
       "      <td>Male</td>\n",
       "      <td>Some college, less than 4-yr degree</td>\n",
       "      <td>No Income</td>\n",
       "      <td>8664.0</td>\n",
       "    </tr>\n",
       "    <tr>\n",
       "      <th>9</th>\n",
       "      <td>01-01-2008 00:00</td>\n",
       "      <td>00 to 17</td>\n",
       "      <td>Male</td>\n",
       "      <td>Some college, less than 4-yr degree</td>\n",
       "      <td>$10,000 to $14,999</td>\n",
       "      <td>1304.0</td>\n",
       "    </tr>\n",
       "    <tr>\n",
       "      <th>10</th>\n",
       "      <td>01-01-2008 00:00</td>\n",
       "      <td>00 to 17</td>\n",
       "      <td>Male</td>\n",
       "      <td>Some college, less than 4-yr degree</td>\n",
       "      <td>$15,000 to $24,999</td>\n",
       "      <td>3465.0</td>\n",
       "    </tr>\n",
       "    <tr>\n",
       "      <th>13</th>\n",
       "      <td>01-01-2008 00:00</td>\n",
       "      <td>00 to 17</td>\n",
       "      <td>Female</td>\n",
       "      <td>No high school diploma</td>\n",
       "      <td>No Income</td>\n",
       "      <td>635274.0</td>\n",
       "    </tr>\n",
       "    <tr>\n",
       "      <th>14</th>\n",
       "      <td>01-01-2008 00:00</td>\n",
       "      <td>00 to 17</td>\n",
       "      <td>Female</td>\n",
       "      <td>No high school diploma</td>\n",
       "      <td>$5,000 to $9,999</td>\n",
       "      <td>33202.0</td>\n",
       "    </tr>\n",
       "    <tr>\n",
       "      <th>15</th>\n",
       "      <td>01-01-2008 00:00</td>\n",
       "      <td>00 to 17</td>\n",
       "      <td>Female</td>\n",
       "      <td>No high school diploma</td>\n",
       "      <td>$10,000 to $14,999</td>\n",
       "      <td>6857.0</td>\n",
       "    </tr>\n",
       "    <tr>\n",
       "      <th>16</th>\n",
       "      <td>01-01-2008 00:00</td>\n",
       "      <td>00 to 17</td>\n",
       "      <td>Female</td>\n",
       "      <td>No high school diploma</td>\n",
       "      <td>$15,000 to $24,999</td>\n",
       "      <td>2009.0</td>\n",
       "    </tr>\n",
       "    <tr>\n",
       "      <th>17</th>\n",
       "      <td>01-01-2008 00:00</td>\n",
       "      <td>00 to 17</td>\n",
       "      <td>Female</td>\n",
       "      <td>High school or equivalent</td>\n",
       "      <td>No Income</td>\n",
       "      <td>4711.0</td>\n",
       "    </tr>\n",
       "    <tr>\n",
       "      <th>18</th>\n",
       "      <td>01-01-2008 00:00</td>\n",
       "      <td>00 to 17</td>\n",
       "      <td>Female</td>\n",
       "      <td>High school or equivalent</td>\n",
       "      <td>$5,000 to $9,999</td>\n",
       "      <td>7672.0</td>\n",
       "    </tr>\n",
       "  </tbody>\n",
       "</table>\n",
       "</div>"
      ],
      "text/plain": [
       "                Year       Age  Gender               Educational Attainment  \\\n",
       "1   01-01-2008 00:00  00 to 17    Male               No high school diploma   \n",
       "2   01-01-2008 00:00  00 to 17    Male               No high school diploma   \n",
       "3   01-01-2008 00:00  00 to 17    Male               No high school diploma   \n",
       "4   01-01-2008 00:00  00 to 17    Male               No high school diploma   \n",
       "5   01-01-2008 00:00  00 to 17    Male               No high school diploma   \n",
       "6   01-01-2008 00:00  00 to 17    Male               No high school diploma   \n",
       "8   01-01-2008 00:00  00 to 17    Male  Some college, less than 4-yr degree   \n",
       "9   01-01-2008 00:00  00 to 17    Male  Some college, less than 4-yr degree   \n",
       "10  01-01-2008 00:00  00 to 17    Male  Some college, less than 4-yr degree   \n",
       "13  01-01-2008 00:00  00 to 17  Female               No high school diploma   \n",
       "14  01-01-2008 00:00  00 to 17  Female               No high school diploma   \n",
       "15  01-01-2008 00:00  00 to 17  Female               No high school diploma   \n",
       "16  01-01-2008 00:00  00 to 17  Female               No high school diploma   \n",
       "17  01-01-2008 00:00  00 to 17  Female            High school or equivalent   \n",
       "18  01-01-2008 00:00  00 to 17  Female            High school or equivalent   \n",
       "\n",
       "       Personal Income  Population Count  \n",
       "1            No Income          650889.0  \n",
       "2     $5,000 to $9,999           30152.0  \n",
       "3   $10,000 to $14,999            7092.0  \n",
       "4   $15,000 to $24,999            3974.0  \n",
       "5   $25,000 to $34,999            2606.0  \n",
       "6   $35,000 to $49,999            2227.0  \n",
       "8            No Income            8664.0  \n",
       "9   $10,000 to $14,999            1304.0  \n",
       "10  $15,000 to $24,999            3465.0  \n",
       "13           No Income          635274.0  \n",
       "14    $5,000 to $9,999           33202.0  \n",
       "15  $10,000 to $14,999            6857.0  \n",
       "16  $15,000 to $24,999            2009.0  \n",
       "17           No Income            4711.0  \n",
       "18    $5,000 to $9,999            7672.0  "
      ]
     },
     "execution_count": 10,
     "metadata": {},
     "output_type": "execute_result"
    }
   ],
   "source": [
    "df.head(15)"
   ]
  },
  {
   "cell_type": "code",
   "execution_count": 11,
   "id": "28f2240c",
   "metadata": {},
   "outputs": [
    {
     "data": {
      "text/html": [
       "<div>\n",
       "<style scoped>\n",
       "    .dataframe tbody tr th:only-of-type {\n",
       "        vertical-align: middle;\n",
       "    }\n",
       "\n",
       "    .dataframe tbody tr th {\n",
       "        vertical-align: top;\n",
       "    }\n",
       "\n",
       "    .dataframe thead th {\n",
       "        text-align: right;\n",
       "    }\n",
       "</style>\n",
       "<table border=\"1\" class=\"dataframe\">\n",
       "  <thead>\n",
       "    <tr style=\"text-align: right;\">\n",
       "      <th></th>\n",
       "      <th>Year</th>\n",
       "      <th>Age</th>\n",
       "      <th>Gender</th>\n",
       "      <th>Educational Attainment</th>\n",
       "      <th>Personal Income</th>\n",
       "      <th>Population Count</th>\n",
       "    </tr>\n",
       "  </thead>\n",
       "  <tbody>\n",
       "    <tr>\n",
       "      <th>2</th>\n",
       "      <td>01-01-2008 00:00</td>\n",
       "      <td>00 to 17</td>\n",
       "      <td>Male</td>\n",
       "      <td>No high school diploma</td>\n",
       "      <td>$5,000 to $9,999</td>\n",
       "      <td>30152.0</td>\n",
       "    </tr>\n",
       "    <tr>\n",
       "      <th>3</th>\n",
       "      <td>01-01-2008 00:00</td>\n",
       "      <td>00 to 17</td>\n",
       "      <td>Male</td>\n",
       "      <td>No high school diploma</td>\n",
       "      <td>$10,000 to $14,999</td>\n",
       "      <td>7092.0</td>\n",
       "    </tr>\n",
       "    <tr>\n",
       "      <th>4</th>\n",
       "      <td>01-01-2008 00:00</td>\n",
       "      <td>00 to 17</td>\n",
       "      <td>Male</td>\n",
       "      <td>No high school diploma</td>\n",
       "      <td>$15,000 to $24,999</td>\n",
       "      <td>3974.0</td>\n",
       "    </tr>\n",
       "    <tr>\n",
       "      <th>5</th>\n",
       "      <td>01-01-2008 00:00</td>\n",
       "      <td>00 to 17</td>\n",
       "      <td>Male</td>\n",
       "      <td>No high school diploma</td>\n",
       "      <td>$25,000 to $34,999</td>\n",
       "      <td>2606.0</td>\n",
       "    </tr>\n",
       "    <tr>\n",
       "      <th>6</th>\n",
       "      <td>01-01-2008 00:00</td>\n",
       "      <td>00 to 17</td>\n",
       "      <td>Male</td>\n",
       "      <td>No high school diploma</td>\n",
       "      <td>$35,000 to $49,999</td>\n",
       "      <td>2227.0</td>\n",
       "    </tr>\n",
       "    <tr>\n",
       "      <th>9</th>\n",
       "      <td>01-01-2008 00:00</td>\n",
       "      <td>00 to 17</td>\n",
       "      <td>Male</td>\n",
       "      <td>Some college, less than 4-yr degree</td>\n",
       "      <td>$10,000 to $14,999</td>\n",
       "      <td>1304.0</td>\n",
       "    </tr>\n",
       "    <tr>\n",
       "      <th>10</th>\n",
       "      <td>01-01-2008 00:00</td>\n",
       "      <td>00 to 17</td>\n",
       "      <td>Male</td>\n",
       "      <td>Some college, less than 4-yr degree</td>\n",
       "      <td>$15,000 to $24,999</td>\n",
       "      <td>3465.0</td>\n",
       "    </tr>\n",
       "    <tr>\n",
       "      <th>14</th>\n",
       "      <td>01-01-2008 00:00</td>\n",
       "      <td>00 to 17</td>\n",
       "      <td>Female</td>\n",
       "      <td>No high school diploma</td>\n",
       "      <td>$5,000 to $9,999</td>\n",
       "      <td>33202.0</td>\n",
       "    </tr>\n",
       "    <tr>\n",
       "      <th>15</th>\n",
       "      <td>01-01-2008 00:00</td>\n",
       "      <td>00 to 17</td>\n",
       "      <td>Female</td>\n",
       "      <td>No high school diploma</td>\n",
       "      <td>$10,000 to $14,999</td>\n",
       "      <td>6857.0</td>\n",
       "    </tr>\n",
       "    <tr>\n",
       "      <th>16</th>\n",
       "      <td>01-01-2008 00:00</td>\n",
       "      <td>00 to 17</td>\n",
       "      <td>Female</td>\n",
       "      <td>No high school diploma</td>\n",
       "      <td>$15,000 to $24,999</td>\n",
       "      <td>2009.0</td>\n",
       "    </tr>\n",
       "    <tr>\n",
       "      <th>18</th>\n",
       "      <td>01-01-2008 00:00</td>\n",
       "      <td>00 to 17</td>\n",
       "      <td>Female</td>\n",
       "      <td>High school or equivalent</td>\n",
       "      <td>$5,000 to $9,999</td>\n",
       "      <td>7672.0</td>\n",
       "    </tr>\n",
       "    <tr>\n",
       "      <th>20</th>\n",
       "      <td>01-01-2008 00:00</td>\n",
       "      <td>00 to 17</td>\n",
       "      <td>Female</td>\n",
       "      <td>Some college, less than 4-yr degree</td>\n",
       "      <td>$5,000 to $9,999</td>\n",
       "      <td>1565.0</td>\n",
       "    </tr>\n",
       "    <tr>\n",
       "      <th>22</th>\n",
       "      <td>01-01-2008 00:00</td>\n",
       "      <td>18 to 64</td>\n",
       "      <td>Male</td>\n",
       "      <td>No high school diploma</td>\n",
       "      <td>$5,000 to $9,999</td>\n",
       "      <td>163263.0</td>\n",
       "    </tr>\n",
       "    <tr>\n",
       "      <th>23</th>\n",
       "      <td>01-01-2008 00:00</td>\n",
       "      <td>18 to 64</td>\n",
       "      <td>Male</td>\n",
       "      <td>No high school diploma</td>\n",
       "      <td>$10,000 to $14,999</td>\n",
       "      <td>317119.0</td>\n",
       "    </tr>\n",
       "    <tr>\n",
       "      <th>24</th>\n",
       "      <td>01-01-2008 00:00</td>\n",
       "      <td>18 to 64</td>\n",
       "      <td>Male</td>\n",
       "      <td>No high school diploma</td>\n",
       "      <td>$15,000 to $24,999</td>\n",
       "      <td>573769.0</td>\n",
       "    </tr>\n",
       "  </tbody>\n",
       "</table>\n",
       "</div>"
      ],
      "text/plain": [
       "                Year       Age  Gender               Educational Attainment  \\\n",
       "2   01-01-2008 00:00  00 to 17    Male               No high school diploma   \n",
       "3   01-01-2008 00:00  00 to 17    Male               No high school diploma   \n",
       "4   01-01-2008 00:00  00 to 17    Male               No high school diploma   \n",
       "5   01-01-2008 00:00  00 to 17    Male               No high school diploma   \n",
       "6   01-01-2008 00:00  00 to 17    Male               No high school diploma   \n",
       "9   01-01-2008 00:00  00 to 17    Male  Some college, less than 4-yr degree   \n",
       "10  01-01-2008 00:00  00 to 17    Male  Some college, less than 4-yr degree   \n",
       "14  01-01-2008 00:00  00 to 17  Female               No high school diploma   \n",
       "15  01-01-2008 00:00  00 to 17  Female               No high school diploma   \n",
       "16  01-01-2008 00:00  00 to 17  Female               No high school diploma   \n",
       "18  01-01-2008 00:00  00 to 17  Female            High school or equivalent   \n",
       "20  01-01-2008 00:00  00 to 17  Female  Some college, less than 4-yr degree   \n",
       "22  01-01-2008 00:00  18 to 64    Male               No high school diploma   \n",
       "23  01-01-2008 00:00  18 to 64    Male               No high school diploma   \n",
       "24  01-01-2008 00:00  18 to 64    Male               No high school diploma   \n",
       "\n",
       "       Personal Income  Population Count  \n",
       "2     $5,000 to $9,999           30152.0  \n",
       "3   $10,000 to $14,999            7092.0  \n",
       "4   $15,000 to $24,999            3974.0  \n",
       "5   $25,000 to $34,999            2606.0  \n",
       "6   $35,000 to $49,999            2227.0  \n",
       "9   $10,000 to $14,999            1304.0  \n",
       "10  $15,000 to $24,999            3465.0  \n",
       "14    $5,000 to $9,999           33202.0  \n",
       "15  $10,000 to $14,999            6857.0  \n",
       "16  $15,000 to $24,999            2009.0  \n",
       "18    $5,000 to $9,999            7672.0  \n",
       "20    $5,000 to $9,999            1565.0  \n",
       "22    $5,000 to $9,999          163263.0  \n",
       "23  $10,000 to $14,999          317119.0  \n",
       "24  $15,000 to $24,999          573769.0  "
      ]
     },
     "execution_count": 11,
     "metadata": {},
     "output_type": "execute_result"
    }
   ],
   "source": [
    "df = df[df['Personal Income'] != 'No Income']\n",
    "df.head(15)"
   ]
  },
  {
   "cell_type": "code",
   "execution_count": 12,
   "id": "643054e5",
   "metadata": {},
   "outputs": [],
   "source": [
    "df['Age'] = df['Age'].astype('category')"
   ]
  },
  {
   "cell_type": "code",
   "execution_count": 13,
   "id": "5e3080bd",
   "metadata": {},
   "outputs": [],
   "source": [
    "df['Personal Income'] = df['Personal Income'].astype('category')"
   ]
  },
  {
   "cell_type": "code",
   "execution_count": 14,
   "id": "bb171246",
   "metadata": {},
   "outputs": [
    {
     "data": {
      "text/plain": [
       "<BarContainer object of 883 artists>"
      ]
     },
     "execution_count": 14,
     "metadata": {},
     "output_type": "execute_result"
    },
    {
     "data": {
      "image/png": "[encoded data removed]",
      "text/plain": [
       "<Figure size 432x288 with 1 Axes>"
      ]
     },
     "metadata": {
      "needs_background": "light"
     },
     "output_type": "display_data"
    }
   ],
   "source": [
    "plt.bar(df['Gender'], df['Population Count'])"
   ]
  },
  {
   "cell_type": "code",
   "execution_count": 15,
   "id": "4d5226dd",
   "metadata": {},
   "outputs": [
    {
     "data": {
      "text/plain": [
       "<BarContainer object of 883 artists>"
      ]
     },
     "execution_count": 15,
     "metadata": {},
     "output_type": "execute_result"
    },
    {
     "data": {
      "image/png": "[encoded data removed]",
      "text/plain": [
       "<Figure size 432x288 with 1 Axes>"
      ]
     },
     "metadata": {
      "needs_background": "light"
     },
     "output_type": "display_data"
    }
   ],
   "source": [
    "plt.barh(df['Gender'], df['Population Count'])"
   ]
  },
  {
   "cell_type": "code",
   "execution_count": 16,
   "id": "a64e3512",
   "metadata": {},
   "outputs": [
    {
     "data": {
      "text/plain": [
       "(883, 6)"
      ]
     },
     "execution_count": 16,
     "metadata": {},
     "output_type": "execute_result"
    }
   ],
   "source": [
    "df.shape"
   ]
  },
  {
   "cell_type": "code",
   "execution_count": 17,
   "id": "94518832",
   "metadata": {},
   "outputs": [],
   "source": [
    "freq_df = df.groupby(['Gender', 'Age']).count()['Educational Attainment']"
   ]
  },
  {
   "cell_type": "code",
   "execution_count": 20,
   "id": "87e2ca1a",
   "metadata": {},
   "outputs": [
    {
     "data": {
      "text/plain": [
       "<AxesSubplot:xlabel='Gender,Age'>"
      ]
     },
     "execution_count": 20,
     "metadata": {},
     "output_type": "execute_result"
    },
    {
     "data": {
      "image/png": "[encoded data removed]",
      "text/plain": [
       "<Figure size 432x288 with 1 Axes>"
      ]
     },
     "metadata": {
      "needs_background": "light"
     },
     "output_type": "display_data"
    }
   ],
   "source": [
    "freq_df.head()\n",
    "freq_df.plot.bar()\n"
   ]
  },
  {
   "cell_type": "code",
   "execution_count": 21,
   "id": "72519fd9",
   "metadata": {},
   "outputs": [
    {
     "data": {
      "text/plain": [
       "<AxesSubplot:ylabel='Gender,Age'>"
      ]
     },
     "execution_count": 21,
     "metadata": {},
     "output_type": "execute_result"
    },
    {
     "data": {
      "image/png": "[encoded data removed]",
      "text/plain": [
       "<Figure size 432x288 with 1 Axes>"
      ]
     },
     "metadata": {
      "needs_background": "light"
     },
     "output_type": "display_data"
    }
   ],
   "source": [
    "freq_df.plot.barh()"
   ]
  },
  {
   "cell_type": "code",
   "execution_count": 22,
   "id": "b09b2fe2",
   "metadata": {},
   "outputs": [
    {
     "data": {
      "text/plain": [
       "<AxesSubplot:>"
      ]
     },
     "execution_count": 22,
     "metadata": {},
     "output_type": "execute_result"
    },
    {
     "data": {
      "image/png": "[encoded data removed]",
      "text/plain": [
       "<Figure size 432x288 with 1 Axes>"
      ]
     },
     "metadata": {
      "needs_background": "light"
     },
     "output_type": "display_data"
    }
   ],
   "source": [
    "df.groupby('Gender').Age.value_counts().unstack(0).plot.barh()"
   ]
  },
  {
   "cell_type": "code",
   "execution_count": 38,
   "id": "03a137c1",
   "metadata": {},
   "outputs": [
    {
     "data": {
      "text/plain": [
       "([0, 1, 2, 3],\n",
       " [Text(0, 0, ''), Text(0, 0, ''), Text(0, 0, ''), Text(0, 0, '')])"
      ]
     },
     "execution_count": 38,
     "metadata": {},
     "output_type": "execute_result"
    },
    {
     "data": {
      "image/png": "[encoded data removed]",
      "text/plain": [
       "<Figure size 432x288 with 1 Axes>"
      ]
     },
     "metadata": {
      "needs_background": "light"
     },
     "output_type": "display_data"
    }
   ],
   "source": [
    "plt.scatter(df['Educational Attainment'], df['Population Count'])\n",
    "plt.xticks(rotation=90)"
   ]
  },
  {
   "cell_type": "code",
   "execution_count": 40,
   "id": "d9b40140",
   "metadata": {},
   "outputs": [
    {
     "data": {
      "text/plain": [
       "([0, 1, 2, 3],\n",
       " [Text(0, 0, ''), Text(0, 0, ''), Text(0, 0, ''), Text(0, 0, '')])"
      ]
     },
     "execution_count": 40,
     "metadata": {},
     "output_type": "execute_result"
    },
    {
     "data": {
      "image/png": "[encoded data removed]",
      "text/plain": [
       "<Figure size 432x288 with 1 Axes>"
      ]
     },
     "metadata": {
      "needs_background": "light"
     },
     "output_type": "display_data"
    }
   ],
   "source": [
    "plt.plot(df['Educational Attainment'], df['Population Count'])\n",
    "plt.xticks(rotation=90)"
   ]
  },
  {
   "cell_type": "code",
   "execution_count": 41,
   "id": "5df63cbd",
   "metadata": {},
   "outputs": [
    {
     "data": {
      "text/plain": [
       "{'whiskers': [<matplotlib.lines.Line2D at 0x233d2f0cd60>,\n",
       "  <matplotlib.lines.Line2D at 0x233d2f1d130>],\n",
       " 'caps': [<matplotlib.lines.Line2D at 0x233d2f1d4c0>,\n",
       "  <matplotlib.lines.Line2D at 0x233d2f1d850>],\n",
       " 'boxes': [<matplotlib.lines.Line2D at 0x233d2f0c9d0>],\n",
       " 'medians': [<matplotlib.lines.Line2D at 0x233d2f1dbe0>],\n",
       " 'fliers': [<matplotlib.lines.Line2D at 0x233d2f1df10>],\n",
       " 'means': []}"
      ]
     },
     "execution_count": 41,
     "metadata": {},
     "output_type": "execute_result"
    },
    {
     "data": {
      "image/png": "[encoded data removed]",
      "text/plain": [
       "<Figure size 432x288 with 1 Axes>"
      ]
     },
     "metadata": {
      "needs_background": "light"
     },
     "output_type": "display_data"
    }
   ],
   "source": [
    "plt.boxplot(df['Population Count'])"
   ]
  },
  {
   "cell_type": "markdown",
   "id": "76cbb676",
   "metadata": {},
   "source": [
    "x axis - Year with date dropped\n",
    "y axis - pop count\n",
    "groupby method\n",
    "pop for each years to edu attainment\n",
    "4 plots"
   ]
  },
  {
   "cell_type": "code",
   "execution_count": null,
   "id": "ed748118",
   "metadata": {},
   "outputs": [],
   "source": []
  }
 ],
 "metadata": {
  "kernelspec": {
   "display_name": "Python 3 (ipykernel)",
   "language": "python",
   "name": "python3"
  },
  "language_info": {
   "codemirror_mode": {
    "name": "ipython",
    "version": 3
   },
   "file_extension": ".py",
   "mimetype": "text/x-python",
   "name": "python",
   "nbconvert_exporter": "python",
   "pygments_lexer": "ipython3",
   "version": "3.9.7"
  }
 },
 "nbformat": 4,
 "nbformat_minor": 5
}
